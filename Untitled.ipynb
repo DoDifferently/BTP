{
 "cells": [
  {
   "cell_type": "markdown",
   "metadata": {},
   "source": [
    "\n",
    "Project Proposal\n",
    "\n",
    "With the help of a neural network model and keyword detection we want to first detect emotions in a piece of text mainly a short story or a poem which has different sets of emotions like anger, disgust, fear, happiness, sadness, surprise, anxiety or no emotion and then recite the story in such a way that the voice is modulated for the range of emotions in the text. \n",
    "We propose to do it as follows:\n",
    "> \n",
    "+ Determining emotion of a linguistic unit: It can be cast as a multi-class classification problem with the emotions as different classes. We will start with a data set which maps sentences to the corresponding, most appropriate emotion. This will be used to train our model. \n",
    "+ Modulating Speech according to emotion: Once our model is trained to identify the emotion of text, we will train it to convert the text to speech along with embedded emotions. This can be done by varying the characteristics of sound to make it apt for a kind of emotion.\n",
    "\n",
    " Applications: For blind people, school children. \n",
    "\n",
    "[API's](https://nordicapis.com/20-emotion-recognition-apis-that-will-leave-you-impressed-and-concerned/)\n",
    "\n",
    "[emotion-detection-and-recognition-from-text-using-deep-learning](https://www.microsoft.com/developerblog/2015/11/29/emotion-detection-and-recognition-from-text-using-deep-learning/)\n",
    "\n",
    "[emotion-detection-in-text](https://www.slideshare.net/kashifkhan186/emotion-detection-in-text)\n",
    "\n",
    "[paralleldots](https://www.paralleldots.com/emotion-detection)\n",
    "\n",
    "[qemotion](http://dashboard.qemotion.com/api/documentation#texttoemotions)\n",
    "\n",
    "[ibm watson](https://www.ibm.com/watson/developercloud/alchemy-language/api/v1/?python#emotion_analysis)\n",
    "\n",
    "\n"
   ]
  },
  {
   "cell_type": "code",
   "execution_count": null,
   "metadata": {
    "collapsed": true
   },
   "outputs": [],
   "source": []
  }
 ],
 "metadata": {
  "kernelspec": {
   "display_name": "Python 2",
   "language": "python",
   "name": "python2"
  },
  "language_info": {
   "codemirror_mode": {
    "name": "ipython",
    "version": 2
   },
   "file_extension": ".py",
   "mimetype": "text/x-python",
   "name": "python",
   "nbconvert_exporter": "python",
   "pygments_lexer": "ipython2",
   "version": "2.7.16"
  },
  "toc": {
   "base_numbering": 1,
   "nav_menu": {},
   "number_sections": true,
   "sideBar": true,
   "skip_h1_title": false,
   "title_cell": "Table of Contents",
   "title_sidebar": "Contents",
   "toc_cell": false,
   "toc_position": {},
   "toc_section_display": true,
   "toc_window_display": false
  }
 },
 "nbformat": 4,
 "nbformat_minor": 2
}
